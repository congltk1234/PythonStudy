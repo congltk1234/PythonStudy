{
  "nbformat": 4,
  "nbformat_minor": 0,
  "metadata": {
    "colab": {
      "name": "bai1",
      "provenance": [],
      "collapsed_sections": [],
      "authorship_tag": "ABX9TyMDhphKBzXW6YRi7+D8jlve",
      "include_colab_link": true
    },
    "kernelspec": {
      "name": "python3",
      "display_name": "Python 3"
    }
  },
  "cells": [
    {
      "cell_type": "markdown",
      "metadata": {
        "id": "view-in-github",
        "colab_type": "text"
      },
      "source": [
        "<a href=\"https://colab.research.google.com/github/congltk1234/PythonStudy/blob/main/ChuyenWhileFor.ipynb\" target=\"_parent\"><img src=\"https://colab.research.google.com/assets/colab-badge.svg\" alt=\"Open In Colab\"/></a>"
      ]
    },
    {
      "cell_type": "markdown",
      "metadata": {
        "id": "NWofzfFYrFDp"
      },
      "source": [
        "# BÀI 1: Có thể chuyển câu lệnh lặp không xác định bằng vòng lặp While sang vòng lặp For có được không?\n",
        "\n",
        "**Trả lời: Có thể chuyển câu lệnh lặp không xắc định bằng vòng lặp While sang For**\n",
        "\n",
        "*VD chứng mình: Viết chương trình hỏi người dùng có muốn tiếp tục hay không?*"
      ]
    },
    {
      "cell_type": "markdown",
      "metadata": {
        "id": "Ukv0JOxvrVfY"
      },
      "source": [
        "# Sử dụng vòng lặp **While**:"
      ]
    },
    {
      "cell_type": "code",
      "metadata": {
        "id": "hCu3ZlVGqeoD",
        "colab": {
          "base_uri": "https://localhost:8080/"
        },
        "outputId": "586b6a30-d9fe-4b52-916b-563157f87c7f"
      },
      "source": [
        "while True:\n",
        "  n = input('Bạn muốn tiếp tục không (y/n)')\n",
        "  if n == 'n' or n == 'N':\n",
        "    print('Finish!')\n",
        "    break"
      ],
      "execution_count": null,
      "outputs": [
        {
          "output_type": "stream",
          "text": [
            "Bạn muốn tiếp tục không (y/n)y\n",
            "Bạn muốn tiếp tục không (y/n)y\n",
            "Bạn muốn tiếp tục không (y/n)n\n",
            "Finish!\n"
          ],
          "name": "stdout"
        }
      ]
    },
    {
      "cell_type": "markdown",
      "metadata": {
        "id": "_xgFDBqOsQuT"
      },
      "source": [
        "# Sử dụng vòng lặp **For**:\n"
      ]
    },
    {
      "cell_type": "markdown",
      "metadata": {
        "id": "aUmAah53Jcv8"
      },
      "source": [
        "**C1:Tạo chuỗi và chèn thêm giá trị trong chuỗi để kéo dài vòng lặp:**"
      ]
    },
    {
      "cell_type": "code",
      "metadata": {
        "colab": {
          "base_uri": "https://localhost:8080/"
        },
        "id": "lwcxsQTRIq9p",
        "outputId": "53e4c121-6c12-43c4-d29a-fa95d45ed4dc"
      },
      "source": [
        "l = [1]\n",
        "for x in l:\n",
        "    l.append(x + 1)\n",
        "    n = input('Bạn muốn tiếp tục không (y/n)')\n",
        "    if n == 'n' or n == 'N':\n",
        "      print('Finish!')\n",
        "      break"
      ],
      "execution_count": null,
      "outputs": [
        {
          "output_type": "stream",
          "text": [
            "Bạn muốn tiếp tục không (y/n)y\n",
            "Bạn muốn tiếp tục không (y/n)y\n",
            "Bạn muốn tiếp tục không (y/n)n\n",
            "Finish!\n"
          ],
          "name": "stdout"
        }
      ]
    },
    {
      "cell_type": "markdown",
      "metadata": {
        "id": "s-TQDnnEJzVE"
      },
      "source": [
        "**C2:Sử dụng hàm iter()**\n"
      ]
    },
    {
      "cell_type": "code",
      "metadata": {
        "colab": {
          "base_uri": "https://localhost:8080/"
        },
        "id": "iJ5_d-8oJBQr",
        "outputId": "96ef02e1-81ef-4ffb-c1d7-a6c0d9347609"
      },
      "source": [
        "for _ in iter(int, 1):\n",
        "    n = input('Bạn muốn tiếp tục không (y/n)')\n",
        "    if n == 'n' or n == 'N':\n",
        "      print('Finish!')\n",
        "      break"
      ],
      "execution_count": null,
      "outputs": [
        {
          "output_type": "stream",
          "text": [
            "Bạn muốn tiếp tục không (y/n)y\n",
            "Bạn muốn tiếp tục không (y/n)y\n",
            "Bạn muốn tiếp tục không (y/n)y\n",
            "Bạn muốn tiếp tục không (y/n)n\n",
            "Finish!\n"
          ],
          "name": "stdout"
        }
      ]
    },
    {
      "cell_type": "markdown",
      "metadata": {
        "id": "i-FXaLEuJVze"
      },
      "source": [
        "***Ngoài ra***\n",
        "\n",
        "**Sử dụng thư viện itertools:**"
      ]
    },
    {
      "cell_type": "code",
      "metadata": {
        "id": "SN0C_hXHHKJu",
        "colab": {
          "base_uri": "https://localhost:8080/"
        },
        "outputId": "b3a9853b-2df5-4d05-fdc3-a72b3790f09c"
      },
      "source": [
        "import itertools\n",
        "for i in itertools.count(start=1):\n",
        "  n = input('Bạn muốn tiếp tục không (y/n)')\n",
        "  if n == 'n' or n == 'N':\n",
        "    print('Finish!')\n",
        "    break\n"
      ],
      "execution_count": null,
      "outputs": [
        {
          "output_type": "stream",
          "text": [
            "Bạn muốn tiếp tục không (y/n)y\n",
            "Bạn muốn tiếp tục không (y/n)y\n",
            "Bạn muốn tiếp tục không (y/n)y\n",
            "Bạn muốn tiếp tục không (y/n)n\n",
            "Finish!\n"
          ],
          "name": "stdout"
        }
      ]
    },
    {
      "cell_type": "markdown",
      "metadata": {
        "id": "sNGo2mRPvvPw"
      },
      "source": [
        "Nhưng thực chất hàm count trong thư viện intertools sẽ hoạt động như bên dưới"
      ]
    },
    {
      "cell_type": "code",
      "metadata": {
        "id": "Jdr7u2FFnTXy",
        "colab": {
          "base_uri": "https://localhost:8080/"
        },
        "outputId": "980ebcef-3bff-4cd3-899d-4cbcaaf2f03e"
      },
      "source": [
        "def to_infinity():\n",
        "    index = 0\n",
        "    while True:\n",
        "        yield index\n",
        "        index += 1\n",
        "\n",
        "for i in to_infinity():\n",
        "  n = input('Bạn muốn tiếp tục không (y/n)')\n",
        "  if n == 'n' or n == 'N':\n",
        "    print('Finish!')\n",
        "    break"
      ],
      "execution_count": null,
      "outputs": [
        {
          "output_type": "stream",
          "text": [
            "Bạn muốn tiếp tục không (y/n)y\n",
            "Bạn muốn tiếp tục không (y/n)y\n",
            "Bạn muốn tiếp tục không (y/n)n\n",
            "Finish!\n"
          ],
          "name": "stdout"
        }
      ]
    }
  ]
}