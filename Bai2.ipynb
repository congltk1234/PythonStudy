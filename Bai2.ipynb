{
  "nbformat": 4,
  "nbformat_minor": 0,
  "metadata": {
    "colab": {
      "name": "Bai2",
      "provenance": [],
      "collapsed_sections": [],
      "authorship_tag": "ABX9TyMjycW87g/7oL0N3Chk5uEk",
      "include_colab_link": true
    },
    "kernelspec": {
      "name": "python3",
      "display_name": "Python 3"
    }
  },
  "cells": [
    {
      "cell_type": "markdown",
      "metadata": {
        "id": "view-in-github",
        "colab_type": "text"
      },
      "source": [
        "<a href=\"https://colab.research.google.com/github/congltk1234/PythonStudy/blob/main/Bai2.ipynb\" target=\"_parent\"><img src=\"https://colab.research.google.com/assets/colab-badge.svg\" alt=\"Open In Colab\"/></a>"
      ]
    },
    {
      "cell_type": "markdown",
      "metadata": {
        "id": "TIAnjsTovEpW"
      },
      "source": [
        "*Viết chương trình lặp giải phương trình bậc nhất n lần với các tham số nhập vào từ bàn phím.*\n",
        "\n",
        "---\n",
        "**Sử dụng While:**\n"
      ]
    },
    {
      "cell_type": "code",
      "metadata": {
        "id": "v5d7rvYdvDjT",
        "colab": {
          "base_uri": "https://localhost:8080/"
        },
        "outputId": "c44b7548-c70a-4fac-f3eb-e4c2a1c4c9b0"
      },
      "source": [
        "n = int(input('Số lần lặp giải phương trình mà bạn muốn: n = '))\n",
        "print('a.x + b = 0')\n",
        "#Lặp giải phương trình\n",
        "while n > 0:\n",
        "  #Điền hệ số a và b.\n",
        "  a = int(input('-Với: a = '))\n",
        "  b = int(input('      b = '))\n",
        "  print('Ta có:',a, end='.')\n",
        "  print('x +',b,'= 0')\n",
        "  #Kiểm tra điều kiện của a và b vừa được nhập vào.\n",
        "  if a == b == 0:\n",
        "    print('Phương trình vô số nghiệm.')\n",
        "  elif a == 0 and b != 0:\n",
        "    print('Phương trình vô nghiệm.')\n",
        "  else:\n",
        "    print('Suy ra x =', -b / a) #Giải phương trình\n",
        "  n -= 1\n",
        "print('Finish!')"
      ],
      "execution_count": null,
      "outputs": [
        {
          "output_type": "stream",
          "text": [
            "Số lần lặp giải phương trình mà bạn muốn: n = 3\n",
            "a.x + b = 0\n",
            "-Với: a = 0\n",
            "      b = 0\n",
            "Ta có: 0.x + 0 = 0\n",
            "Phương trình vô số nghiệm.\n",
            "-Với: a = 0\n",
            "      b = -2\n",
            "Ta có: 0.x + -2 = 0\n",
            "Phương trình vô nghiệm.\n",
            "-Với: a = -2\n",
            "      b = 2\n",
            "Ta có: -2.x + 2 = 0\n",
            "Suy ra x = 1.0\n",
            "Finish!\n"
          ],
          "name": "stdout"
        }
      ]
    },
    {
      "cell_type": "markdown",
      "metadata": {
        "id": "sj1MkWhwH4Mb"
      },
      "source": [
        "\n",
        "\n",
        "---\n",
        "\n",
        "\n",
        "**Sử dụng For:**"
      ]
    },
    {
      "cell_type": "code",
      "metadata": {
        "colab": {
          "base_uri": "https://localhost:8080/"
        },
        "id": "5yhG5FTcGe9_",
        "outputId": "fe8c87d6-5f73-414f-8869-358efe327707"
      },
      "source": [
        "n = int(input('Số lần lặp giải phương trình mà bạn muốn: n = '))\n",
        "print('a.x + b = 0')\n",
        "#Lặp giải phương trình\n",
        "for i in range(n):\n",
        "  #Điền hệ số a và b.\n",
        "  a = int(input('-Với: a = '))\n",
        "  b = int(input('      b = '))\n",
        "  print('Ta có:',a, end='.')\n",
        "  print('x +',b,'= 0')\n",
        "  #Kiểm tra điều kiện của a và b vừa được nhập vào.\n",
        "  if a == b == 0:\n",
        "    print('Phương trình vô số nghiệm.')\n",
        "  elif a == 0 and b != 0:\n",
        "    print('Phương trình vô nghiệm.')\n",
        "  else:\n",
        "    print('Suy ra x =', -b / a) #Giải phương trình\n",
        "print('Finish!')0"
      ],
      "execution_count": null,
      "outputs": [
        {
          "output_type": "stream",
          "text": [
            "Số lần lặp giải phương trình mà bạn muốn: n = 3\n",
            "a.x + b = 0\n",
            "-Với: a = 1\n",
            "      b = 2\n",
            "Ta có: 1.x + 2 = 0\n",
            "Suy ra x = -2.0\n",
            "-Với: a = 0\n",
            "      b = 0\n",
            "Ta có: 0.x + 0 = 0\n",
            "Phương trình vô số nghiệm.\n",
            "-Với: a = 0\n",
            "      b = -1\n",
            "Ta có: 0.x + -1 = 0\n",
            "Phương trình vô nghiệm.\n",
            "Finish!\n"
          ],
          "name": "stdout"
        }
      ]
    }
  ]
}