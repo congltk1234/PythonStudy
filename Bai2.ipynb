{
  "nbformat": 4,
  "nbformat_minor": 0,
  "metadata": {
    "colab": {
      "name": "Bai2",
      "provenance": [],
      "authorship_tag": "ABX9TyOgIdb5L5I+9N+++qSSAGCT",
      "include_colab_link": true
    },
    "kernelspec": {
      "name": "python3",
      "display_name": "Python 3"
    }
  },
  "cells": [
    {
      "cell_type": "markdown",
      "metadata": {
        "id": "view-in-github",
        "colab_type": "text"
      },
      "source": [
        "<a href=\"https://colab.research.google.com/github/congltk1234/PythonStudy/blob/main/Bai2.ipynb\" target=\"_parent\"><img src=\"https://colab.research.google.com/assets/colab-badge.svg\" alt=\"Open In Colab\"/></a>"
      ]
    },
    {
      "cell_type": "markdown",
      "metadata": {
        "id": "TIAnjsTovEpW"
      },
      "source": [
        "*Viết chương trình lặp giải phương trình bậc nhất n lần với các tham số nhập vào từ bàn phím.*\n",
        "\n",
        "---\n",
        "**Sử dụng While:**\n"
      ]
    },
    {
      "cell_type": "code",
      "metadata": {
        "colab": {
          "base_uri": "https://localhost:8080/"
        },
        "id": "v5d7rvYdvDjT",
        "outputId": "1d9cf3a6-6cc0-4124-dfdf-c21bad2281d5"
      },
      "source": [
        "n = int(input('n = '))\n",
        "print('a.x + b = 0')\n",
        "while n > 0:\n",
        "  a = int(input('-Với a = '))\n",
        "  b = int(input('     b = '))\n",
        "  print('Suy ra x = ', -b / a)\n",
        "  n -= 1"
      ],
      "execution_count": null,
      "outputs": [
        {
          "output_type": "stream",
          "text": [
            "n = 2\n",
            "a.x + b = 0\n",
            "-Với a = 3\n",
            "     b = 4\n",
            "Suy ra x =  -1.3333333333333333\n",
            "-Với a = 1\n",
            "     b = 2\n",
            "Suy ra x =  -2.0\n"
          ],
          "name": "stdout"
        }
      ]
    },
    {
      "cell_type": "markdown",
      "metadata": {
        "id": "sj1MkWhwH4Mb"
      },
      "source": [
        "\n",
        "\n",
        "---\n",
        "\n",
        "\n",
        "**Sử dụng For:**"
      ]
    },
    {
      "cell_type": "code",
      "metadata": {
        "colab": {
          "base_uri": "https://localhost:8080/"
        },
        "id": "5yhG5FTcGe9_",
        "outputId": "f15c3248-8433-472d-81b1-86bb763cb869"
      },
      "source": [
        "n = int(input('n = '))\n",
        "print('a.x + b = 0')\n",
        "for i in range(n):\n",
        "  a = int(input('-Với a = '))\n",
        "  b = int(input('     b = '))\n",
        "  print('Suy ra x = ', -b / a)"
      ],
      "execution_count": null,
      "outputs": [
        {
          "output_type": "stream",
          "text": [
            "n = 2\n",
            "a.x + b = 0\n",
            "với a = 1\n",
            "    b = 2\n",
            "Suy ra x =  -2.0\n",
            "với a = 4\n",
            "    b = 5\n",
            "Suy ra x =  -1.25\n"
          ],
          "name": "stdout"
        }
      ]
    }
  ]
}