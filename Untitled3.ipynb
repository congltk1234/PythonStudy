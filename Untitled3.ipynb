{
  "nbformat": 4,
  "nbformat_minor": 0,
  "metadata": {
    "colab": {
      "name": "Untitled3.ipynb",
      "provenance": [],
      "authorship_tag": "ABX9TyOarweZMhE6cWgO1d8E9jrs",
      "include_colab_link": true
    },
    "kernelspec": {
      "name": "python3",
      "display_name": "Python 3"
    }
  },
  "cells": [
    {
      "cell_type": "markdown",
      "metadata": {
        "id": "view-in-github",
        "colab_type": "text"
      },
      "source": [
        "<a href=\"https://colab.research.google.com/github/congltk1234/PythonStudy/blob/main/Untitled3.ipynb\" target=\"_parent\"><img src=\"https://colab.research.google.com/assets/colab-badge.svg\" alt=\"Open In Colab\"/></a>"
      ]
    },
    {
      "cell_type": "code",
      "metadata": {
        "id": "QrRANwBZnrHx"
      },
      "source": [
        "import numpy as np\r\n",
        "# Cần cài đặt Pillow: pip install pillow\r\n",
        "from PIL import Image, ImageOps\r\n",
        "from matplotlib import pyplot as plt"
      ],
      "execution_count": 27,
      "outputs": []
    },
    {
      "cell_type": "code",
      "metadata": {
        "id": "jEOMESMerQMR"
      },
      "source": [
        "from IPython.display import display\r\n",
        "import sys\r\n",
        "np.set_printoptions(suppress=True)"
      ],
      "execution_count": 28,
      "outputs": []
    },
    {
      "cell_type": "code",
      "metadata": {
        "colab": {
          "base_uri": "https://localhost:8080/"
        },
        "id": "dNP5NjAjntjK",
        "outputId": "1ae35d8f-2963-430c-c0cf-40b94331318b"
      },
      "source": [
        "# Tạo 1 matrix random cấp 3x4\r\n",
        "A = np.random.randint(10, size=(3, 4))\r\n",
        "print(A)"
      ],
      "execution_count": 30,
      "outputs": [
        {
          "output_type": "stream",
          "text": [
            "[[8 5 8 6]\n",
            " [4 8 7 9]\n",
            " [2 3 7 2]]\n"
          ],
          "name": "stdout"
        }
      ]
    },
    {
      "cell_type": "code",
      "metadata": {
        "colab": {
          "base_uri": "https://localhost:8080/"
        },
        "id": "EYbInomJnuNh",
        "outputId": "ee4a2c89-b4f8-4388-a876-c9b9d22c40ab"
      },
      "source": [
        "# Phân tích thành phần suy biến với numpy:\r\n",
        "U, S, V = np.linalg.svd(A)\r\n",
        "print(U)\r\n",
        "print(\"-\"*50)\r\n",
        "print(S)\r\n",
        "print(\"-\"*50)\r\n",
        "print(V)\r\n",
        "T = np.transpose(U)\r\n",
        "print(\"-\"*50)\r\n",
        "print(U@T)"
      ],
      "execution_count": 31,
      "outputs": [
        {
          "output_type": "stream",
          "text": [
            "[[-0.6442874  -0.50411143 -0.57512208]\n",
            " [-0.67753887  0.7250443   0.12349838]\n",
            " [-0.35473204 -0.46923601  0.808692  ]]\n",
            "--------------------------------------------------\n",
            "[20.85426635  4.40310206  3.27296002]\n",
            "--------------------------------------------------\n",
            "[[-0.411135   -0.46541767 -0.5936529  -0.5117916 ]\n",
            " [-0.47039252  0.42517506 -0.50923949  0.58192112]\n",
            " [-0.76065676  0.16451548  0.58795584 -0.2205536 ]\n",
            " [-0.17635245 -0.75864828  0.20629909  0.59227804]]\n",
            "--------------------------------------------------\n",
            "[[ 1.  0.  0.]\n",
            " [ 0.  1. -0.]\n",
            " [ 0. -0.  1.]]\n"
          ],
          "name": "stdout"
        }
      ]
    },
    {
      "cell_type": "code",
      "metadata": {
        "colab": {
          "base_uri": "https://localhost:8080/"
        },
        "id": "oGNGs9q0p2Rg",
        "outputId": "38ba204e-2ae7-4308-9484-8270159edcac"
      },
      "source": [
        "Sigma = np.diag(S)\r\n",
        "print(Sigma)"
      ],
      "execution_count": 32,
      "outputs": [
        {
          "output_type": "stream",
          "text": [
            "[[20.85426635  0.          0.        ]\n",
            " [ 0.          4.40310206  0.        ]\n",
            " [ 0.          0.          3.27296002]]\n"
          ],
          "name": "stdout"
        }
      ]
    }
  ]
}